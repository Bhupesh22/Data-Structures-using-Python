{
 "cells": [
  {
   "cell_type": "code",
   "execution_count": 19,
   "metadata": {},
   "outputs": [
    {
     "name": "stdout",
     "output_type": "stream",
     "text": [
      "11 45 76 23 98 91 32 65\n",
      "Sorted array is : [11, 23, 32, 45, 65, 76, 91, 98]\n",
      "Enter the element to be searched :66\n",
      "Element not found\n"
     ]
    }
   ],
   "source": [
    "'''Non recursive approach'''\n",
    "def binarysearch(x,l,h,ele):\n",
    "    while(l<=h):\n",
    "        m=int((l+h)/2)\n",
    "        if ele == x[m]:\n",
    "            return m\n",
    "        elif ele<x[m]:\n",
    "            h=m-1\n",
    "        else:\n",
    "            l=m+1\n",
    "    return -1\n",
    "x=[int(i) for i in input().split()]\n",
    "x.sort()\n",
    "print(\"Sorted array is :\",x)\n",
    "ele=int(input('Enter the element to be searched :'))\n",
    "z=binarysearch(x,0,len(x),ele)\n",
    "if z== -1:\n",
    "    print(\"Element not found\")\n",
    "else:\n",
    "    print(\"Element found at location :\",z)"
   ]
  },
  {
   "cell_type": "code",
   "execution_count": 20,
   "metadata": {},
   "outputs": [
    {
     "name": "stdout",
     "output_type": "stream",
     "text": [
      "11 45 76 23 98 91 32 65\n",
      "Sorted array is : [11, 23, 32, 45, 65, 76, 91, 98]\n",
      "Enter the element to be searched :66\n",
      "Element not found\n"
     ]
    }
   ],
   "source": [
    "'''Recursive approach'''\n",
    "def binarysearch(x,l,h,ele):\n",
    "    m=int((l+h)/2)\n",
    "    if(l>h):\n",
    "        return -1\n",
    "    if x[m]==ele:\n",
    "        return m\n",
    "    if ele <x[m]:\n",
    "        return binarysearch(x,l,m-1,ele)\n",
    "    else:\n",
    "        return binarysearch(x,m+1,h,ele)\n",
    "    \n",
    "x=[int(i) for i in input().split()]\n",
    "x.sort()\n",
    "print(\"Sorted array is :\",x)\n",
    "ele=int(input(\"Enter the element to be searched :\"))\n",
    "z=binarysearch(x,0,len(x)-1,ele)\n",
    "if z== -1:\n",
    "    print(\"Element not found\")\n",
    "else:\n",
    "    print(\"Element found at :\",z)"
   ]
  },
  {
   "cell_type": "code",
   "execution_count": null,
   "metadata": {},
   "outputs": [],
   "source": []
  }
 ],
 "metadata": {
  "kernelspec": {
   "display_name": "Python 3",
   "language": "python",
   "name": "python3"
  },
  "language_info": {
   "codemirror_mode": {
    "name": "ipython",
    "version": 3
   },
   "file_extension": ".py",
   "mimetype": "text/x-python",
   "name": "python",
   "nbconvert_exporter": "python",
   "pygments_lexer": "ipython3",
   "version": "3.6.9"
  }
 },
 "nbformat": 4,
 "nbformat_minor": 2
}
