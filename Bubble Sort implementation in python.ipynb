{
 "cells": [
  {
   "cell_type": "code",
   "execution_count": 4,
   "metadata": {},
   "outputs": [
    {
     "name": "stdout",
     "output_type": "stream",
     "text": [
      "3 4 292 81 2 1\n",
      "Sorted array: [1, 2, 3, 4, 81, 292]\n"
     ]
    }
   ],
   "source": [
    "#Normal bubble sort implementation\n",
    "def bubblesort(x,n):\n",
    "    for i in range(0,n-1):\n",
    "        for j in range(0,n-i-1):\n",
    "            if x[j]>x[j+1]:\n",
    "                x[j],x[j+1]=x[j+1],x[j]\n",
    "    return x\n",
    "unsorted=[int(i) for i in input().split()]\n",
    "z=bubblesort(unsorted,len(unsorted))\n",
    "print('Sorted array:',z)"
   ]
  },
  {
   "cell_type": "code",
   "execution_count": 9,
   "metadata": {},
   "outputs": [
    {
     "name": "stdout",
     "output_type": "stream",
     "text": [
      "1 6 5 3 4 2 7 8 \n",
      "Sorted array: [1, 2, 3, 4, 5, 6, 7, 8]\n"
     ]
    }
   ],
   "source": [
    "#Modified Bubble sort\n",
    "def bubblesort(x,n):\n",
    "    for i in range(0,n):\n",
    "        exchange=False\n",
    "        for j in range(0,n-i-1):\n",
    "            if x[j]>x[j+1]:\n",
    "                x[j],x[j+1]=x[j+1],x[j]\n",
    "                exchange=True\n",
    "        if exchange==False:\n",
    "            break\n",
    "    \n",
    "    return x\n",
    "unsorted=[int(i) for i in input().split()]\n",
    "z=bubblesort(unsorted,len(unsorted))\n",
    "print('Sorted array:',z)"
   ]
  },
  {
   "cell_type": "code",
   "execution_count": null,
   "metadata": {},
   "outputs": [],
   "source": []
  }
 ],
 "metadata": {
  "kernelspec": {
   "display_name": "Python 3",
   "language": "python",
   "name": "python3"
  },
  "language_info": {
   "codemirror_mode": {
    "name": "ipython",
    "version": 3
   },
   "file_extension": ".py",
   "mimetype": "text/x-python",
   "name": "python",
   "nbconvert_exporter": "python",
   "pygments_lexer": "ipython3",
   "version": "3.6.9"
  }
 },
 "nbformat": 4,
 "nbformat_minor": 2
}
