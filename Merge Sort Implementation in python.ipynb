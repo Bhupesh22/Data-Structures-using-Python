{
 "cells": [
  {
   "cell_type": "code",
   "execution_count": 3,
   "metadata": {},
   "outputs": [
    {
     "name": "stdout",
     "output_type": "stream",
     "text": [
      "1 5 4 3 2 9 8 7 6\n",
      "Splitting array : [1, 5, 4, 3, 2, 9, 8, 7, 6]\n",
      "Splitting array : [1, 5, 4, 3]\n",
      "Splitting array : [1, 5]\n",
      "Splitting array : [1]\n",
      "Splitting array : [5]\n",
      "Merging array : [1, 5]\n",
      "Splitting array : [4, 3]\n",
      "Splitting array : [4]\n",
      "Splitting array : [3]\n",
      "Merging array : [3, 4]\n",
      "Merging array : [1, 3, 4, 5]\n",
      "Splitting array : [2, 9, 8, 7, 6]\n",
      "Splitting array : [2, 9]\n",
      "Splitting array : [2]\n",
      "Splitting array : [9]\n",
      "Merging array : [2, 9]\n",
      "Splitting array : [8, 7, 6]\n",
      "Splitting array : [8]\n",
      "Splitting array : [7, 6]\n",
      "Splitting array : [7]\n",
      "Splitting array : [6]\n",
      "Merging array : [6, 7]\n",
      "Merging array : [6, 7, 8]\n",
      "Merging array : [2, 6, 7, 8, 9]\n",
      "Merging array : [1, 2, 3, 4, 5, 6, 7, 8, 9]\n",
      "Sorted array : [1, 2, 3, 4, 5, 6, 7, 8, 9]\n"
     ]
    }
   ],
   "source": [
    "def mergesort(x):\n",
    "    print('Splitting array :',x)\n",
    "    if len(x)>1:\n",
    "        m=len(x)//2\n",
    "        l=x[:m]\n",
    "        r=x[m:]\n",
    "        \n",
    "        mergesort(l)\n",
    "        mergesort(r)\n",
    "        \n",
    "        i,j,k=0,0,0\n",
    "        while(i<len(l) and j<len(r)):\n",
    "            if l[i]<r[j]:\n",
    "                x[k]=l[i]\n",
    "                i=i+1\n",
    "            else:\n",
    "                x[k]=r[j]\n",
    "                j=j+1\n",
    "            k=k+1\n",
    "        \n",
    "        while(i<len(l)):\n",
    "            x[k]=l[i]\n",
    "            i=i+1\n",
    "            k=k+1\n",
    "        \n",
    "        while(j<len(r)):\n",
    "            x[k]=r[j]\n",
    "            j=j+1\n",
    "            k=k+1\n",
    "        print('Merging array :',x)\n",
    "    \n",
    "x=[int(i) for i in input().split()]\n",
    "mergesort(x)\n",
    "print('Sorted array :',x)"
   ]
  },
  {
   "cell_type": "code",
   "execution_count": null,
   "metadata": {},
   "outputs": [],
   "source": []
  },
  {
   "cell_type": "code",
   "execution_count": null,
   "metadata": {},
   "outputs": [],
   "source": []
  },
  {
   "cell_type": "code",
   "execution_count": null,
   "metadata": {},
   "outputs": [],
   "source": []
  },
  {
   "cell_type": "code",
   "execution_count": null,
   "metadata": {},
   "outputs": [],
   "source": []
  },
  {
   "cell_type": "code",
   "execution_count": null,
   "metadata": {},
   "outputs": [],
   "source": []
  }
 ],
 "metadata": {
  "kernelspec": {
   "display_name": "Python 3",
   "language": "python",
   "name": "python3"
  },
  "language_info": {
   "codemirror_mode": {
    "name": "ipython",
    "version": 3
   },
   "file_extension": ".py",
   "mimetype": "text/x-python",
   "name": "python",
   "nbconvert_exporter": "python",
   "pygments_lexer": "ipython3",
   "version": "3.6.9"
  }
 },
 "nbformat": 4,
 "nbformat_minor": 2
}
