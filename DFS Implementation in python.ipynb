{
 "cells": [
  {
   "cell_type": "code",
   "execution_count": 25,
   "metadata": {},
   "outputs": [
    {
     "name": "stdout",
     "output_type": "stream",
     "text": [
      "Enter the number of nodes: 6\n",
      "Enter the number of edges: 10\n",
      "1 2\n",
      "1 5\n",
      "2 3\n",
      "2 4\n",
      "2 5\n",
      "3 4\n",
      "3 6\n",
      "4 5\n",
      "4 6\n",
      "5 6\n",
      "\n",
      "Adjacency matrix:\n",
      " [[0, 1, 0, 0, 4, 0], [0, 0, 2, 3, 4, 0], [0, 1, 0, 3, 0, 5], [0, 1, 2, 0, 4, 5], [0, 1, 0, 3, 0, 5], [0, 0, 2, 3, 4, 0]]\n",
      "\n",
      "Visited array:  [1, 1, 1, 1, 1, 1]\n",
      "\n",
      "DFS:  [1, 5, 6, 4, 3, 2]\n"
     ]
    }
   ],
   "source": [
    "def dfs(s,adj,node,edges):\n",
    "    res=[]\n",
    "    visited=[0 for i in range(node)]\n",
    "    stack=[]\n",
    "    stack.append(s)\n",
    "    while(len(stack)):\n",
    "        s=stack[-1]\n",
    "        stack.pop()\n",
    "        if (not visited[s]):\n",
    "            res.append(s+1)\n",
    "            visited[s]=1\n",
    "        for n in adj[s]:  \n",
    "            if (not visited[n]):  \n",
    "                stack.append(n) \n",
    "    print('\\nVisited array: ',visited)\n",
    "    return res\n",
    "            \n",
    "node=int(input('Enter the number of nodes: '))\n",
    "edges=int(input('Enter the number of edges: '))\n",
    "adj=[[0 for i in range(node)] for j in range(node)]\n",
    "for i in range(edges):\n",
    "    e1,e2=[int(i) for i in input().split()]\n",
    "    adj[e1-1][e2-1]=e2-1\n",
    "    adj[e2-1][e1-1]=e1-1\n",
    "print('\\nAdjacency matrix:\\n',adj)\n",
    "z=dfs(0,adj,node,edges)\n",
    "print('\\nDFS: ',z)"
   ]
  },
  {
   "cell_type": "code",
   "execution_count": 26,
   "metadata": {},
   "outputs": [
    {
     "data": {
      "text/plain": [
       "[[0, 1, 0, 0, 4, 0],\n",
       " [0, 0, 2, 3, 4, 0],\n",
       " [0, 1, 0, 3, 0, 5],\n",
       " [0, 1, 2, 0, 4, 5],\n",
       " [0, 1, 0, 3, 0, 5],\n",
       " [0, 0, 2, 3, 4, 0]]"
      ]
     },
     "execution_count": 26,
     "metadata": {},
     "output_type": "execute_result"
    }
   ],
   "source": [
    "adj"
   ]
  },
  {
   "cell_type": "code",
   "execution_count": null,
   "metadata": {},
   "outputs": [],
   "source": []
  },
  {
   "cell_type": "code",
   "execution_count": null,
   "metadata": {},
   "outputs": [],
   "source": []
  }
 ],
 "metadata": {
  "kernelspec": {
   "display_name": "Python 3",
   "language": "python",
   "name": "python3"
  },
  "language_info": {
   "codemirror_mode": {
    "name": "ipython",
    "version": 3
   },
   "file_extension": ".py",
   "mimetype": "text/x-python",
   "name": "python",
   "nbconvert_exporter": "python",
   "pygments_lexer": "ipython3",
   "version": "3.6.9"
  }
 },
 "nbformat": 4,
 "nbformat_minor": 2
}
