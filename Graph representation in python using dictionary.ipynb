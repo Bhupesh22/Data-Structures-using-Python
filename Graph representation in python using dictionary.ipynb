{
 "cells": [
  {
   "cell_type": "code",
   "execution_count": 2,
   "metadata": {},
   "outputs": [
    {
     "name": "stdout",
     "output_type": "stream",
     "text": [
      "Enter the number of nodes: 6\n",
      "Enter the number of edges: 10\n",
      "1 2\n",
      "1 5\n",
      "2 3\n",
      "2 4\n",
      "2 5\n",
      "3 4\n",
      "3 6\n",
      "4 5\n",
      "4 6\n",
      "5 6\n"
     ]
    }
   ],
   "source": [
    "from collections import defaultdict as d\n",
    "graph=d(list)\n",
    "node=int(input('Enter the number of nodes: '))\n",
    "edges=int(input('Enter the number of edges: '))\n",
    "for i in range(edges):\n",
    "    e1,e2=[int(i) for i in input().split()]\n",
    "    graph[e1].append(e2)\n",
    "    graph[e2].append(e1)"
   ]
  },
  {
   "cell_type": "code",
   "execution_count": 13,
   "metadata": {},
   "outputs": [
    {
     "data": {
      "text/plain": [
       "defaultdict(list,\n",
       "            {1: [2, 5],\n",
       "             2: [1, 3, 4, 5],\n",
       "             5: [1, 2, 4, 6],\n",
       "             3: [2, 4, 6],\n",
       "             4: [2, 3, 5, 6],\n",
       "             6: [3, 4, 5]})"
      ]
     },
     "execution_count": 13,
     "metadata": {},
     "output_type": "execute_result"
    }
   ],
   "source": [
    "graph"
   ]
  },
  {
   "cell_type": "code",
   "execution_count": 14,
   "metadata": {},
   "outputs": [
    {
     "name": "stdout",
     "output_type": "stream",
     "text": [
      "[4, 2, 1, 5, 6, 3]\n"
     ]
    }
   ],
   "source": [
    "#to generate a path from one node to another node\n",
    "def findpath(graph,start,end,path=[]):\n",
    "    path=path+[start]\n",
    "    if start==end:\n",
    "        return path\n",
    "    for node in graph[start]:\n",
    "        if node not in path:\n",
    "            newpath=findpath(graph,node,end,path)\n",
    "            if newpath:\n",
    "                return newpath\n",
    "print(findpath(graph,4,3))"
   ]
  },
  {
   "cell_type": "code",
   "execution_count": 16,
   "metadata": {},
   "outputs": [
    {
     "name": "stdout",
     "output_type": "stream",
     "text": [
      "[[1, 2, 3], [1, 2, 4, 3], [1, 2, 4, 5, 6, 3], [1, 2, 4, 6, 3], [1, 2, 5, 4, 3], [1, 2, 5, 4, 6, 3], [1, 2, 5, 6, 3], [1, 2, 5, 6, 4, 3], [1, 5, 2, 3], [1, 5, 2, 4, 3], [1, 5, 2, 4, 6, 3], [1, 5, 4, 2, 3], [1, 5, 4, 3], [1, 5, 4, 6, 3], [1, 5, 6, 3], [1, 5, 6, 4, 2, 3], [1, 5, 6, 4, 3]]\n"
     ]
    }
   ],
   "source": [
    "#to generate all possible path\n",
    "def allpossiblepath(graph,start,end,path=[]):\n",
    "    path=path+[start]\n",
    "    if start==end:\n",
    "        return [path]\n",
    "    paths=[]\n",
    "    newpathlist=[]\n",
    "    for node in graph[start]:\n",
    "        if node not in path:\n",
    "            newpathlist=allpossiblepath(graph,node,end,path)\n",
    "        for x in newpathlist:\n",
    "            if x not in paths:\n",
    "                paths.append(x)\n",
    "    return paths\n",
    "print(allpossiblepath(graph,1,3))"
   ]
  },
  {
   "cell_type": "code",
   "execution_count": 18,
   "metadata": {},
   "outputs": [
    {
     "name": "stdout",
     "output_type": "stream",
     "text": [
      "[2, 3, 6]\n"
     ]
    }
   ],
   "source": [
    "#to find the shortest path\n",
    "def shortestpath(graph,start,end,path=[]):\n",
    "    path=path+[start]\n",
    "    if start==end:\n",
    "        return path\n",
    "    shortest=None\n",
    "    for node in graph[start]:\n",
    "        if node not in path:\n",
    "            newpath=shortestpath(graph,node,end,path)\n",
    "            if newpath: \n",
    "                if not shortest or len(newpath) < len(shortest): \n",
    "                    shortest = newpath\n",
    "    return shortest\n",
    "    \n",
    "print(shortestpath(graph,2,6))"
   ]
  },
  {
   "cell_type": "code",
   "execution_count": null,
   "metadata": {},
   "outputs": [],
   "source": []
  },
  {
   "cell_type": "code",
   "execution_count": null,
   "metadata": {},
   "outputs": [],
   "source": []
  }
 ],
 "metadata": {
  "kernelspec": {
   "display_name": "Python 3",
   "language": "python",
   "name": "python3"
  },
  "language_info": {
   "codemirror_mode": {
    "name": "ipython",
    "version": 3
   },
   "file_extension": ".py",
   "mimetype": "text/x-python",
   "name": "python",
   "nbconvert_exporter": "python",
   "pygments_lexer": "ipython3",
   "version": "3.6.9"
  }
 },
 "nbformat": 4,
 "nbformat_minor": 2
}
